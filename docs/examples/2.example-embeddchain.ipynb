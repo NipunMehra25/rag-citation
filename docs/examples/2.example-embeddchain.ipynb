{
 "cells": [
  {
   "cell_type": "markdown",
   "metadata": {},
   "source": [
    "### RAG Citation: Enhancing AI-Generated Content with Automatic Citations (A Non-LLM Approach)\n",
    "#### 2. Example-embeddchain"
   ]
  },
  {
   "cell_type": "code",
   "execution_count": 7,
   "metadata": {},
   "outputs": [],
   "source": [
    "## install embedchain\n",
    "# !pip install embedchain"
   ]
  },
  {
   "cell_type": "code",
   "execution_count": 3,
   "metadata": {},
   "outputs": [],
   "source": [
    "## install rag_citation\n",
    "# !pip install rag_citation"
   ]
  },
  {
   "cell_type": "markdown",
   "metadata": {},
   "source": [
    "#### 1. add your OpenAI key"
   ]
  },
  {
   "cell_type": "markdown",
   "metadata": {},
   "source": [
    "* create .env file\n",
    "* add your OPENAI_API_KEY='sk-****'"
   ]
  },
  {
   "cell_type": "code",
   "execution_count": 2,
   "metadata": {},
   "outputs": [],
   "source": [
    "import os\n",
    "from dotenv import load_dotenv\n",
    "load_dotenv()\n",
    "\n",
    "os.environ[\"OPENAI_API_KEY\"] = os.getenv(\"OPENAI_API_KEY\")"
   ]
  },
  {
   "cell_type": "markdown",
   "metadata": {},
   "source": [
    "#### 2. ingesting documents"
   ]
  },
  {
   "cell_type": "code",
   "execution_count": 3,
   "metadata": {},
   "outputs": [
    {
     "name": "stderr",
     "output_type": "stream",
     "text": [
      "Inserting batches in chromadb:   0%|          | 0/1 [00:00<?, ?it/s]2024-11-04 23:08:04,803 - 8421618240 - local_persistent_hnsw.py-local_persistent_hnsw:271 - WARNING: Add of existing embedding ID: default-app-id--4f7d3091513cc3bc304ce8eb6b98272c8e0b0d4d42d5f9d61b9faba9b5295545\n",
      "2024-11-04 23:08:04,804 - 8421618240 - local_persistent_hnsw.py-local_persistent_hnsw:271 - WARNING: Add of existing embedding ID: default-app-id--bc7ce15b75da8e1bb3f0b24f3e1126afc545e2934893b611001b68c539b84f4e\n",
      "2024-11-04 23:08:04,805 - 8421618240 - local_persistent_hnsw.py-local_persistent_hnsw:271 - WARNING: Add of existing embedding ID: default-app-id--a9ed7a850be9ba86a7aaebf3926ca6985188bd2fb79cd0c4123b992104fe952f\n",
      "Inserting batches in chromadb: 100%|██████████| 1/1 [00:01<00:00,  1.40s/it]\n",
      "Inserting batches in chromadb: 100%|██████████| 2/2 [00:07<00:00,  3.56s/it]\n"
     ]
    },
    {
     "data": {
      "text/plain": [
       "'1eab8dd1ffa92906f7fc839862871ca5'"
      ]
     },
     "execution_count": 3,
     "metadata": {},
     "output_type": "execute_result"
    }
   ],
   "source": [
    "from embedchain import App\n",
    "\n",
    "app = App()\n",
    "app.add(\"https://www.forbes.com/profile/elon-musk\")\n",
    "app.add(\"https://en.wikipedia.org/wiki/Elon_Musk\")"
   ]
  },
  {
   "cell_type": "markdown",
   "metadata": {},
   "source": [
    "#### 3. Query"
   ]
  },
  {
   "cell_type": "code",
   "execution_count": 4,
   "metadata": {},
   "outputs": [
    {
     "name": "stderr",
     "output_type": "stream",
     "text": [
      "2024-11-04 23:08:18,110 - 8421618240 - embedchain.py-embedchain:558 - WARNING: Starting from v0.1.125 the return type of query method will be changed to tuple containing `answer`.\n"
     ]
    },
    {
     "data": {
      "text/plain": [
       "\"Elon Musk's net worth is estimated to be approximately $260.9 billion as of November 4, 2024.\""
      ]
     },
     "execution_count": 4,
     "metadata": {},
     "output_type": "execute_result"
    }
   ],
   "source": [
    "app.query(\"What is the net worth of Elon Musk today?\")"
   ]
  },
  {
   "cell_type": "code",
   "execution_count": 5,
   "metadata": {},
   "outputs": [],
   "source": [
    "documents=app.search(\"What is the net worth of Elon Musk today?\")"
   ]
  },
  {
   "cell_type": "markdown",
   "metadata": {},
   "source": [
    "#### 4. rag-citation"
   ]
  },
  {
   "cell_type": "code",
   "execution_count": 6,
   "metadata": {},
   "outputs": [
    {
     "data": {
      "text/plain": [
       "[{'context': \"Elon Musk PROFILEElon MuskCEO, Tesla$260.9B$2.4B (0.91%)Real Time Net Worthas of 11/4/24Reflects change since 5 pm ET of prior trading day. 1 in the world todayPhoto by Martin Schoeller for ForbesFrom the EditorElon Musk cofounded seven companies, including electric car maker Tesla, rocket producer SpaceX and artificial intelligence startup xAI.He owns about 12% of Tesla excluding options, but has pledged more than half his shares as collateral for personal loans of up to $3.5 billion.In early 2024, a Delaware judge voided Musk's 2018 deal to receive options equaling an additional 9% of Tesla. Forbes has discounted the options by 50% pending Musk's appeal.SpaceX, founded in 2002, is worth nearly $210 billion based on a tender offer launched during the second half of 2024. Musk owns an estimated 42% stake.Musk bought Twitter in a $44 billion (enterprise value) deal during 2022. Forbes estimates that the social media company, which he renamed X, is worth nearly 70% less as of August 2024.Musk owns an estimated 60% of xAI, which he founded in 2023. Private investors valued the company at $24 billion in May 2024.Wealth HistoryHOVER TO REVEAL NET WORTH BY YEARForbes Lists 1Forbes 400 (2024)The Richest Person In Every State (2024) 2Billionaires (2024) 1Innovative Leaders (2019) 25Powerful People (2018) 12Richest In Tech (2017)Global Game Changers (2016)More ListsPersonal StatsAge53Source of WealthTesla, SpaceX, Self MadeSelf-Made Score8Philanthropy Score1ResidenceAustin, TexasCitizenshipUnited StatesMarital StatusSingleChildren11EducationBachelor of Arts/Science, University of PennsylvaniaDid you knowMusk, who says he's worried about population collapse, has ten children with three women, including triplets and two sets of twins.As a kid in South Africa, Musk taught himself to code; he sold his first game, Blastar, for about $500.In Their Own WordsI operate on the physics approach to analysis. You boil things down to the first principles or fundamental truths in a\",\n",
       "  'metadata': {'app_id': 'default-app-id',\n",
       "   'data_type': 'web_page',\n",
       "   'doc_id': 'default-app-id--ff8ca63140946d2f2118daecc6d54afd90a86dacccd5c91d60a3b8689dd2f46a',\n",
       "   'hash': '8cf46026cabf9b05394a2658bd1fe890',\n",
       "   'url': 'https://www.forbes.com/profile/elon-musk',\n",
       "   'score': 0.2371538132429123}},\n",
       " {'context': \"the founding of the Boring Company, xAI, Neuralink, and OpenAI. He is one of the wealthiest individuals in the world; as of August 2024[update] Forbes estimates his net worth to be US$247 billion.[3] Musk was born in Pretoria, South Africa, to Maye (née Haldeman), a model, and Errol Musk, a businessman and engineer. Musk briefly attended the University of Pretoria before immigrating to Canada at the age of 18, acquiring citizenship through his Canadian-born mother. Two years later he matriculated at Queen's University at Kingston in Canada. Musk later transferred to the University of Pennsylvania and received bachelor's degrees in economics and physics. He moved to California in 1995 to attend Stanford University, but never enrolled in classes and, with his brother Kimbal, co-founded the online city guide software company Zip2. The startup was acquired by Compaq for $307 million in 1999. That same year, Musk co-founded X.com, a direct bank. X.com merged with Confinity in 2000 to form PayPal. In 2002 Musk acquired US citizenship. That October eBay acquired PayPal for $1.5 billion. Using $100 million of the money he made from the sale of PayPal, Musk founded SpaceX, a spaceflight services company, in 2002. In 2004, Musk was an early investor in electric-vehicle manufacturer Tesla Motors, Inc. (later Tesla, Inc.), providing most of the initial financing and assuming the position of the company's chairman. He later became the product architect and, in 2008, the CEO. In 2006, Musk helped create SolarCity, a solar energy company that was acquired by Tesla in 2016 and became Tesla Energy. In 2013, he proposed a hyperloop high-speed vactrain transportation system. In 2015, he co-founded OpenAI, a nonprofit artificial intelligence research company. The following year Musk co-founded Neuralink, a neurotechnology company developing brain–computer interfaces, and The Boring Company, a tunnel construction company. In 2018 the U.S. Securities and Exchange Commission (SEC) sued\",\n",
       "  'metadata': {'app_id': 'default-app-id',\n",
       "   'data_type': 'web_page',\n",
       "   'doc_id': 'default-app-id--c52afee8ceb3c20a3099b52a3a6a3cacf561f941183d4bfb62c3905b80a00a2d',\n",
       "   'hash': '1eab8dd1ffa92906f7fc839862871ca5',\n",
       "   'url': 'https://en.wikipedia.org/wiki/Elon_Musk',\n",
       "   'score': 0.31159064173698425}},\n",
       " {'context': 'well as the accounts of journalists that posted stories regarding the incident, including Donie O\\'Sullivan, Keith Olbermann, and journalists from The New York Times, The Washington Post, CNN, and The Intercept.[332] Musk equated the reporting to doxxing.[333] Police do not believe there is a link between the account and alleged stalker.[334] Musk later took a Twitter poll on whether the journalists\\' accounts should be reinstated, which resulted in reinstating the accounts.[335] Company towns Main articles: Boca Chica Village, Texas and Snailbrook, Texas After 2020, thousands of acres of land just outside Austin, Texas, were acquired by Musk and his companies with a total value of $2.5 billion.[336][337] The project to build the company town named Snailbrook in Bastrop County, Texas began in 2021 according to reports by The Wall Street Journal.[338] Musk\\'s then-girlfriend Grimes and Kanye West were involved in the planning.[338] The name \"Snailbrook\" alludes to The Boring Company\\'s stated goal of building a machine that can bore tunnels faster than a snail can move.[338] In 2023 the town had a reported population of 12 people.[339] There are plans to establish a school and a university there.[336] Wealth Main article: Wealth of Elon Musk Musk made $175.8 million when PayPal was sold to eBay in October 2002.[340] He was first listed on the Forbes Billionaires List in 2012, with a net worth of $2 billion.[341] Personal actions, views, and social media usage This article is part of a series onConservatismin the United States Schools Compassionate Fiscal Fusion Liberal Libertarian Moderate Movement Neo- Paleo- Postliberal Populist Progressive Social Straussian Traditionalist Principles American exceptionalism American nationalism Anti-communism Christian nationalism Civil religion Classical liberalism Communitarianism Constitutionalism Culture of life Pro-life Familialism Family values Federalism States\\' rights Gender essentialism Complementarianism Judeo-Christian',\n",
       "  'metadata': {'app_id': 'default-app-id',\n",
       "   'data_type': 'web_page',\n",
       "   'doc_id': 'default-app-id--c52afee8ceb3c20a3099b52a3a6a3cacf561f941183d4bfb62c3905b80a00a2d',\n",
       "   'hash': '1eab8dd1ffa92906f7fc839862871ca5',\n",
       "   'url': 'https://en.wikipedia.org/wiki/Elon_Musk',\n",
       "   'score': 0.3646296262741089}}]"
      ]
     },
     "execution_count": 6,
     "metadata": {},
     "output_type": "execute_result"
    }
   ],
   "source": [
    "documents"
   ]
  },
  {
   "cell_type": "code",
   "execution_count": 7,
   "metadata": {},
   "outputs": [],
   "source": [
    "document=[]\n",
    "for x in documents:\n",
    "    document.append({\n",
    "         \"source_id\": x[\"metadata\"][\"doc_id\"],\n",
    "        \"document\": x[\"context\"],\n",
    "        \"meta\": [{\"url\": x[\"metadata\"][\"url\"],\"chunk_id\":x[\"metadata\"][\"hash\"]}]\n",
    "    })"
   ]
  },
  {
   "cell_type": "code",
   "execution_count": 8,
   "metadata": {},
   "outputs": [
    {
     "data": {
      "text/plain": [
       "[{'source_id': 'default-app-id--ff8ca63140946d2f2118daecc6d54afd90a86dacccd5c91d60a3b8689dd2f46a',\n",
       "  'document': \"Elon Musk PROFILEElon MuskCEO, Tesla$260.9B$2.4B (0.91%)Real Time Net Worthas of 11/4/24Reflects change since 5 pm ET of prior trading day. 1 in the world todayPhoto by Martin Schoeller for ForbesFrom the EditorElon Musk cofounded seven companies, including electric car maker Tesla, rocket producer SpaceX and artificial intelligence startup xAI.He owns about 12% of Tesla excluding options, but has pledged more than half his shares as collateral for personal loans of up to $3.5 billion.In early 2024, a Delaware judge voided Musk's 2018 deal to receive options equaling an additional 9% of Tesla. Forbes has discounted the options by 50% pending Musk's appeal.SpaceX, founded in 2002, is worth nearly $210 billion based on a tender offer launched during the second half of 2024. Musk owns an estimated 42% stake.Musk bought Twitter in a $44 billion (enterprise value) deal during 2022. Forbes estimates that the social media company, which he renamed X, is worth nearly 70% less as of August 2024.Musk owns an estimated 60% of xAI, which he founded in 2023. Private investors valued the company at $24 billion in May 2024.Wealth HistoryHOVER TO REVEAL NET WORTH BY YEARForbes Lists 1Forbes 400 (2024)The Richest Person In Every State (2024) 2Billionaires (2024) 1Innovative Leaders (2019) 25Powerful People (2018) 12Richest In Tech (2017)Global Game Changers (2016)More ListsPersonal StatsAge53Source of WealthTesla, SpaceX, Self MadeSelf-Made Score8Philanthropy Score1ResidenceAustin, TexasCitizenshipUnited StatesMarital StatusSingleChildren11EducationBachelor of Arts/Science, University of PennsylvaniaDid you knowMusk, who says he's worried about population collapse, has ten children with three women, including triplets and two sets of twins.As a kid in South Africa, Musk taught himself to code; he sold his first game, Blastar, for about $500.In Their Own WordsI operate on the physics approach to analysis. You boil things down to the first principles or fundamental truths in a\",\n",
       "  'meta': [{'url': 'https://www.forbes.com/profile/elon-musk',\n",
       "    'chunk_id': '8cf46026cabf9b05394a2658bd1fe890'}]},\n",
       " {'source_id': 'default-app-id--c52afee8ceb3c20a3099b52a3a6a3cacf561f941183d4bfb62c3905b80a00a2d',\n",
       "  'document': \"the founding of the Boring Company, xAI, Neuralink, and OpenAI. He is one of the wealthiest individuals in the world; as of August 2024[update] Forbes estimates his net worth to be US$247 billion.[3] Musk was born in Pretoria, South Africa, to Maye (née Haldeman), a model, and Errol Musk, a businessman and engineer. Musk briefly attended the University of Pretoria before immigrating to Canada at the age of 18, acquiring citizenship through his Canadian-born mother. Two years later he matriculated at Queen's University at Kingston in Canada. Musk later transferred to the University of Pennsylvania and received bachelor's degrees in economics and physics. He moved to California in 1995 to attend Stanford University, but never enrolled in classes and, with his brother Kimbal, co-founded the online city guide software company Zip2. The startup was acquired by Compaq for $307 million in 1999. That same year, Musk co-founded X.com, a direct bank. X.com merged with Confinity in 2000 to form PayPal. In 2002 Musk acquired US citizenship. That October eBay acquired PayPal for $1.5 billion. Using $100 million of the money he made from the sale of PayPal, Musk founded SpaceX, a spaceflight services company, in 2002. In 2004, Musk was an early investor in electric-vehicle manufacturer Tesla Motors, Inc. (later Tesla, Inc.), providing most of the initial financing and assuming the position of the company's chairman. He later became the product architect and, in 2008, the CEO. In 2006, Musk helped create SolarCity, a solar energy company that was acquired by Tesla in 2016 and became Tesla Energy. In 2013, he proposed a hyperloop high-speed vactrain transportation system. In 2015, he co-founded OpenAI, a nonprofit artificial intelligence research company. The following year Musk co-founded Neuralink, a neurotechnology company developing brain–computer interfaces, and The Boring Company, a tunnel construction company. In 2018 the U.S. Securities and Exchange Commission (SEC) sued\",\n",
       "  'meta': [{'url': 'https://en.wikipedia.org/wiki/Elon_Musk',\n",
       "    'chunk_id': '1eab8dd1ffa92906f7fc839862871ca5'}]},\n",
       " {'source_id': 'default-app-id--c52afee8ceb3c20a3099b52a3a6a3cacf561f941183d4bfb62c3905b80a00a2d',\n",
       "  'document': 'well as the accounts of journalists that posted stories regarding the incident, including Donie O\\'Sullivan, Keith Olbermann, and journalists from The New York Times, The Washington Post, CNN, and The Intercept.[332] Musk equated the reporting to doxxing.[333] Police do not believe there is a link between the account and alleged stalker.[334] Musk later took a Twitter poll on whether the journalists\\' accounts should be reinstated, which resulted in reinstating the accounts.[335] Company towns Main articles: Boca Chica Village, Texas and Snailbrook, Texas After 2020, thousands of acres of land just outside Austin, Texas, were acquired by Musk and his companies with a total value of $2.5 billion.[336][337] The project to build the company town named Snailbrook in Bastrop County, Texas began in 2021 according to reports by The Wall Street Journal.[338] Musk\\'s then-girlfriend Grimes and Kanye West were involved in the planning.[338] The name \"Snailbrook\" alludes to The Boring Company\\'s stated goal of building a machine that can bore tunnels faster than a snail can move.[338] In 2023 the town had a reported population of 12 people.[339] There are plans to establish a school and a university there.[336] Wealth Main article: Wealth of Elon Musk Musk made $175.8 million when PayPal was sold to eBay in October 2002.[340] He was first listed on the Forbes Billionaires List in 2012, with a net worth of $2 billion.[341] Personal actions, views, and social media usage This article is part of a series onConservatismin the United States Schools Compassionate Fiscal Fusion Liberal Libertarian Moderate Movement Neo- Paleo- Postliberal Populist Progressive Social Straussian Traditionalist Principles American exceptionalism American nationalism Anti-communism Christian nationalism Civil religion Classical liberalism Communitarianism Constitutionalism Culture of life Pro-life Familialism Family values Federalism States\\' rights Gender essentialism Complementarianism Judeo-Christian',\n",
       "  'meta': [{'url': 'https://en.wikipedia.org/wiki/Elon_Musk',\n",
       "    'chunk_id': '1eab8dd1ffa92906f7fc839862871ca5'}]}]"
      ]
     },
     "execution_count": 8,
     "metadata": {},
     "output_type": "execute_result"
    }
   ],
   "source": [
    "document"
   ]
  },
  {
   "cell_type": "code",
   "execution_count": 9,
   "metadata": {},
   "outputs": [],
   "source": [
    "answer=\"Elon Musk's net worth is estimated to be US$241 billion as of August 2024.\"\n"
   ]
  },
  {
   "cell_type": "code",
   "execution_count": 10,
   "metadata": {},
   "outputs": [],
   "source": [
    "from rag_citation import CiteItem, Inference"
   ]
  },
  {
   "cell_type": "code",
   "execution_count": 11,
   "metadata": {},
   "outputs": [],
   "source": [
    "inference = Inference(spacy_model=\"sm\", embedding_model=\"md\")\n",
    "cite_item = CiteItem(answer=answer, context=document)"
   ]
  },
  {
   "cell_type": "code",
   "execution_count": 12,
   "metadata": {},
   "outputs": [
    {
     "name": "stderr",
     "output_type": "stream",
     "text": [
      "100%|██████████| 2/2 [00:00<00:00,  2.27it/s]\n"
     ]
    }
   ],
   "source": [
    "output=inference(cite_item)"
   ]
  },
  {
   "cell_type": "code",
   "execution_count": 13,
   "metadata": {},
   "outputs": [
    {
     "data": {
      "text/plain": [
       "[{'answer_sentences': \"Elon Musk's net worth is estimated to be US$241 billion as of August 2024.\",\n",
       "  'cite_document': [{'document': 'He is one of the wealthiest individuals in the world; as of August 2024[update]',\n",
       "    'source_id': 'default-app-id--c52afee8ceb3c20a3099b52a3a6a3cacf561f941183d4bfb62c3905b80a00a2d',\n",
       "    'entity': [{'word': 'August 2024', 'entity_name': 'DATE'}],\n",
       "    'score': 100,\n",
       "    'meta': [{'url': 'https://en.wikipedia.org/wiki/Elon_Musk',\n",
       "      'chunk_id': '1eab8dd1ffa92906f7fc839862871ca5'}]}]}]"
      ]
     },
     "execution_count": 13,
     "metadata": {},
     "output_type": "execute_result"
    }
   ],
   "source": [
    "output.citation"
   ]
  },
  {
   "cell_type": "code",
   "execution_count": 14,
   "metadata": {},
   "outputs": [
    {
     "data": {
      "text/plain": [
       "['US$241 billion']"
      ]
     },
     "execution_count": 14,
     "metadata": {},
     "output_type": "execute_result"
    }
   ],
   "source": [
    "output.missing_word"
   ]
  },
  {
   "cell_type": "code",
   "execution_count": 15,
   "metadata": {},
   "outputs": [
    {
     "data": {
      "text/plain": [
       "True"
      ]
     },
     "execution_count": 15,
     "metadata": {},
     "output_type": "execute_result"
    }
   ],
   "source": [
    "output.hallucination"
   ]
  },
  {
   "cell_type": "code",
   "execution_count": null,
   "metadata": {},
   "outputs": [],
   "source": []
  },
  {
   "cell_type": "code",
   "execution_count": null,
   "metadata": {},
   "outputs": [],
   "source": []
  }
 ],
 "metadata": {
  "kernelspec": {
   "display_name": "py3.12",
   "language": "python",
   "name": "python3"
  },
  "language_info": {
   "codemirror_mode": {
    "name": "ipython",
    "version": 3
   },
   "file_extension": ".py",
   "mimetype": "text/x-python",
   "name": "python",
   "nbconvert_exporter": "python",
   "pygments_lexer": "ipython3",
   "version": "3.12.4"
  }
 },
 "nbformat": 4,
 "nbformat_minor": 2
}
