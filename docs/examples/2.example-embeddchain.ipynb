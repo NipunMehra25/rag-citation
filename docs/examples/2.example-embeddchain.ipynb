{
 "cells": [
  {
   "cell_type": "markdown",
   "metadata": {},
   "source": [
    "### RAG Citation: Enhancing AI-Generated Content with Automatic Citations (A Non-LLM Approach)\n",
    "#### 2. Example-embeddchain"
   ]
  },
  {
   "cell_type": "code",
   "execution_count": null,
   "metadata": {},
   "outputs": [],
   "source": [
    "## install embedchain\n",
    "# !pip install embedchain"
   ]
  },
  {
   "cell_type": "code",
   "execution_count": 5,
   "metadata": {},
   "outputs": [],
   "source": [
    "## install rag_citation\n",
    "# !pip install rag_citation"
   ]
  },
  {
   "cell_type": "markdown",
   "metadata": {},
   "source": [
    "#### 1. add your OpenAI key"
   ]
  },
  {
   "cell_type": "code",
   "execution_count": 1,
   "metadata": {},
   "outputs": [],
   "source": [
    "import os\n",
    "from dotenv import load_dotenv\n",
    "load_dotenv()\n",
    "\n",
    "os.environ[\"OPENAI_API_KEY\"] = os.getenv(\"OPENAI_API_KEY\")"
   ]
  },
  {
   "cell_type": "markdown",
   "metadata": {},
   "source": [
    "#### 2. ingesting documents"
   ]
  },
  {
   "cell_type": "code",
   "execution_count": 2,
   "metadata": {},
   "outputs": [
    {
     "name": "stderr",
     "output_type": "stream",
     "text": [
      "Inserting batches in chromadb: 100%|██████████| 1/1 [00:00<00:00,  1.30it/s]\n",
      "Inserting batches in chromadb: 100%|██████████| 2/2 [00:03<00:00,  1.88s/it]\n"
     ]
    },
    {
     "data": {
      "text/plain": [
       "'1eab8dd1ffa92906f7fc839862871ca5'"
      ]
     },
     "execution_count": 2,
     "metadata": {},
     "output_type": "execute_result"
    }
   ],
   "source": [
    "from embedchain import App\n",
    "\n",
    "app = App()\n",
    "app.add(\"https://www.forbes.com/profile/elon-musk\")\n",
    "app.add(\"https://en.wikipedia.org/wiki/Elon_Musk\")"
   ]
  },
  {
   "cell_type": "markdown",
   "metadata": {},
   "source": [
    "#### 3. Query"
   ]
  },
  {
   "cell_type": "code",
   "execution_count": 3,
   "metadata": {},
   "outputs": [
    {
     "name": "stderr",
     "output_type": "stream",
     "text": [
      "2024-08-21 23:00:47,299 - 8263585600 - embedchain.py-embedchain:547 - WARNING: Starting from v0.1.125 the return type of query method will be changed to tuple containing `answer`.\n"
     ]
    },
    {
     "data": {
      "text/plain": [
       "\"Elon Musk's net worth is estimated to be $241 billion as of August 2024.\""
      ]
     },
     "execution_count": 3,
     "metadata": {},
     "output_type": "execute_result"
    }
   ],
   "source": [
    "app.query(\"What is the net worth of Elon Musk today?\")"
   ]
  },
  {
   "cell_type": "code",
   "execution_count": 4,
   "metadata": {},
   "outputs": [],
   "source": [
    "documents=app.search(\"What is the net worth of Elon Musk today?\")"
   ]
  },
  {
   "cell_type": "markdown",
   "metadata": {},
   "source": [
    "#### 4. rag-citation"
   ]
  },
  {
   "cell_type": "code",
   "execution_count": 5,
   "metadata": {},
   "outputs": [
    {
     "data": {
      "text/plain": [
       "[{'context': \"Elon Musk PROFILEElon MuskCEO, Tesla$248.1B$491M (0.20%)Real Time Net Worthas of 8/21/24Reflects change since 5 pm ET of prior trading day. 1 in the world todayPhoto by Martin Schoeller for ForbesAbout Elon MuskElon Musk cofounded six companies, including electric car maker Tesla, rocket producer SpaceX and tunneling startup Boring Company.He owns about 12% of Tesla excluding options, but has pledged more than half his shares as collateral for personal loans of up to $3.5 billion.In early 2024, a Delaware judge voided Musk's 2018 deal to receive options equaling an additional 9% of Tesla. Forbes has discounted the options by 50% pending Musk's appeal.SpaceX, founded in 2002, is worth nearly $180 billion after a December 2023 tender offer of up to $750 million; SpaceX stock has quintupled its value in four years.Musk bought Twitter in 2022 for $44 billion, after later trying to back out of the deal. He owns an estimated 74% of the company, now called X.Forbes estimates that Musk's stake in X is now worth nearly 70% less than he paid for it based on investor Fidelity's valuation of the company as of December 2023.Wealth HistoryHOVER TO REVEAL NET WORTH BY YEARForbes ListsThe Richest Person In Every State (2024) 2Billionaires (2024) 1Forbes 400 (2023) 1Innovative Leaders (2019) 25Powerful People (2018) 12Richest In Tech (2017)Global Game Changers (2016)More ListsPersonal StatsAge53Source of WealthTesla, SpaceX, Self MadeSelf-Made Score8Philanthropy Score1ResidenceAustin, TexasCitizenshipUnited StatesMarital StatusSingleChildren11EducationBachelor of Arts/Science, University of PennsylvaniaDid you knowMusk, who says he's worried about population collapse, has ten children with three women, including triplets and two sets of twins.As a kid in South Africa, Musk taught himself to code; he sold his first game, Blastar, for about $500.In Their Own WordsI operate on the physics approach to analysis. You boil things down to the first principles or fundamental truths in a\",\n",
       "  'metadata': {'app_id': 'default-app-id',\n",
       "   'data_type': 'web_page',\n",
       "   'doc_id': 'default-app-id--91f90608f388920f5f82b4356ff62f272071c897102a0997454266971b41378c',\n",
       "   'hash': '8cf46026cabf9b05394a2658bd1fe890',\n",
       "   'url': 'https://www.forbes.com/profile/elon-musk',\n",
       "   'score': 0.23023463785648346}},\n",
       " {'context': \"wealthiest individuals in the world; as of August 2024[update] Forbes estimates his net worth to be US$241 billion.[3] Musk was born in Pretoria to Maye (née Haldeman), a model, and Errol Musk, a businessman and engineer. Musk briefly attended the University of Pretoria before immigrating to Canada at the age of 18, acquiring citizenship through his Canadian-born mother. Two years later he matriculated at Queen's University at Kingston in Canada. Musk later transferred to the University of Pennsylvania and received bachelor's degrees in economics and physics. He moved to California in 1995 to attend Stanford University, but dropped out after two days and, with his brother Kimbal, co-founded the online city guide software company Zip2. The startup was acquired by Compaq for $307 million in 1999. That same year Musk co-founded X.com, a direct bank. X.com merged with Confinity in 2000 to form PayPal. In October 2002 eBay acquired PayPal for $1.5 billion. Using $100 million of the money he made from the sale of PayPal, Musk founded SpaceX, a spaceflight services company, in 2002. In 2004 Musk was an early investor who provided most of the initial financing in the electric-vehicle manufacturer Tesla Motors, Inc. (later Tesla, Inc.), assuming the position of the company's chairman. He later became the product architect, and in 2008 the CEO. In 2006 Musk helped create SolarCity, a solar energy company that was acquired by Tesla in 2016 and became Tesla Energy. In 2013 he proposed a hyperloop high-speed vactrain transportation system. In 2015 he co-founded OpenAI, a nonprofit artificial intelligence research company. The following year Musk co-founded Neuralink—a neurotechnology company developing brain–computer interfaces—and The Boring Company, a tunnel construction company. In 2018 the U.S. Securities and Exchange Commission (SEC) sued Musk, alleging that he had falsely announced that he had secured funding for a private takeover of Tesla. To settle the case Musk\",\n",
       "  'metadata': {'app_id': 'default-app-id',\n",
       "   'data_type': 'web_page',\n",
       "   'doc_id': 'default-app-id--69e79714cd4e8c22ed638f65f9601aa69efbf3b614db391be678a0755db50068',\n",
       "   'hash': '1eab8dd1ffa92906f7fc839862871ca5',\n",
       "   'url': 'https://en.wikipedia.org/wiki/Elon_Musk',\n",
       "   'score': 0.27100756764411926}},\n",
       " {'context': 'in 2012, with a net worth of $2 billion.[325] Personal views and Twitter usage Further information: Views of Elon Musk Since joining Twitter (now known as X) in 2009,[326] Musk has been an active user and has over 163 million followers as of November 2023[update].[327] He posts memes, promotes business interests, and comments on contemporary political and cultural issues.[328] Musk\\'s statements have provoked controversy, such as for mocking preferred gender pronouns[329][330] and comparing Canadian Prime Minister Justin Trudeau to Adolf Hitler.[331] The New York Times describes his contributions to international relations as \"chaotic\", and critics of Musk argue that there is a lack of separation between his opinions and his business interests.[332] As CEO of Twitter, Musk emerged as a source of misinformation and right-wing conspiracy theories, for example by suggesting online details about mass murderer Mauricio Garcia\\'s apparent interest in Nazism could have been planted as part of a psyop.[333] Allegations of him being transphobic appeared as well in response to actions taken by Twitter under his guidance.[334][335] Musk credits science fiction writers, particularly Robert A. Heinlein, for inspiring many of his personal views and business ventures, including SpaceX, Grok, and his libertarian inclinations.[336][337] Finance Musk said that the U.S. government should not provide subsidies to companies, but impose a carbon tax to reduce greenhouse gas emissions.[338][339] The free market, in his view, would achieve the best solution, and producing environmentally unfriendly vehicles should have consequences.[340] Tesla has received billions of dollars in subsidies.[341] As of February 2024, Tesla has made $9 billion from government-initiated systems of zero-emissions credits.[342][343][344][345][346] Tax credits offered in California, at the United States federal level, and by other governments have enabled Tesla\\'s battery electric vehicles to be price-competitive',\n",
       "  'metadata': {'app_id': 'default-app-id',\n",
       "   'data_type': 'web_page',\n",
       "   'doc_id': 'default-app-id--69e79714cd4e8c22ed638f65f9601aa69efbf3b614db391be678a0755db50068',\n",
       "   'hash': '1eab8dd1ffa92906f7fc839862871ca5',\n",
       "   'url': 'https://en.wikipedia.org/wiki/Elon_Musk',\n",
       "   'score': 0.27158039808273315}}]"
      ]
     },
     "execution_count": 5,
     "metadata": {},
     "output_type": "execute_result"
    }
   ],
   "source": [
    "documents"
   ]
  },
  {
   "cell_type": "code",
   "execution_count": 6,
   "metadata": {},
   "outputs": [],
   "source": [
    "document=[]\n",
    "for x in documents:\n",
    "    document.append({\n",
    "         \"source_id\": x[\"metadata\"][\"doc_id\"],\n",
    "        \"document\": x[\"context\"],\n",
    "        \"meta\": [{\"url\": x[\"metadata\"][\"url\"],\"chunk_id\":x[\"metadata\"][\"hash\"]}]\n",
    "    })"
   ]
  },
  {
   "cell_type": "code",
   "execution_count": 7,
   "metadata": {},
   "outputs": [
    {
     "data": {
      "text/plain": [
       "[{'source_id': 'default-app-id--91f90608f388920f5f82b4356ff62f272071c897102a0997454266971b41378c',\n",
       "  'document': \"Elon Musk PROFILEElon MuskCEO, Tesla$248.1B$491M (0.20%)Real Time Net Worthas of 8/21/24Reflects change since 5 pm ET of prior trading day. 1 in the world todayPhoto by Martin Schoeller for ForbesAbout Elon MuskElon Musk cofounded six companies, including electric car maker Tesla, rocket producer SpaceX and tunneling startup Boring Company.He owns about 12% of Tesla excluding options, but has pledged more than half his shares as collateral for personal loans of up to $3.5 billion.In early 2024, a Delaware judge voided Musk's 2018 deal to receive options equaling an additional 9% of Tesla. Forbes has discounted the options by 50% pending Musk's appeal.SpaceX, founded in 2002, is worth nearly $180 billion after a December 2023 tender offer of up to $750 million; SpaceX stock has quintupled its value in four years.Musk bought Twitter in 2022 for $44 billion, after later trying to back out of the deal. He owns an estimated 74% of the company, now called X.Forbes estimates that Musk's stake in X is now worth nearly 70% less than he paid for it based on investor Fidelity's valuation of the company as of December 2023.Wealth HistoryHOVER TO REVEAL NET WORTH BY YEARForbes ListsThe Richest Person In Every State (2024) 2Billionaires (2024) 1Forbes 400 (2023) 1Innovative Leaders (2019) 25Powerful People (2018) 12Richest In Tech (2017)Global Game Changers (2016)More ListsPersonal StatsAge53Source of WealthTesla, SpaceX, Self MadeSelf-Made Score8Philanthropy Score1ResidenceAustin, TexasCitizenshipUnited StatesMarital StatusSingleChildren11EducationBachelor of Arts/Science, University of PennsylvaniaDid you knowMusk, who says he's worried about population collapse, has ten children with three women, including triplets and two sets of twins.As a kid in South Africa, Musk taught himself to code; he sold his first game, Blastar, for about $500.In Their Own WordsI operate on the physics approach to analysis. You boil things down to the first principles or fundamental truths in a\",\n",
       "  'meta': [{'url': 'https://www.forbes.com/profile/elon-musk',\n",
       "    'chunk_id': '8cf46026cabf9b05394a2658bd1fe890'}]},\n",
       " {'source_id': 'default-app-id--69e79714cd4e8c22ed638f65f9601aa69efbf3b614db391be678a0755db50068',\n",
       "  'document': \"wealthiest individuals in the world; as of August 2024[update] Forbes estimates his net worth to be US$241 billion.[3] Musk was born in Pretoria to Maye (née Haldeman), a model, and Errol Musk, a businessman and engineer. Musk briefly attended the University of Pretoria before immigrating to Canada at the age of 18, acquiring citizenship through his Canadian-born mother. Two years later he matriculated at Queen's University at Kingston in Canada. Musk later transferred to the University of Pennsylvania and received bachelor's degrees in economics and physics. He moved to California in 1995 to attend Stanford University, but dropped out after two days and, with his brother Kimbal, co-founded the online city guide software company Zip2. The startup was acquired by Compaq for $307 million in 1999. That same year Musk co-founded X.com, a direct bank. X.com merged with Confinity in 2000 to form PayPal. In October 2002 eBay acquired PayPal for $1.5 billion. Using $100 million of the money he made from the sale of PayPal, Musk founded SpaceX, a spaceflight services company, in 2002. In 2004 Musk was an early investor who provided most of the initial financing in the electric-vehicle manufacturer Tesla Motors, Inc. (later Tesla, Inc.), assuming the position of the company's chairman. He later became the product architect, and in 2008 the CEO. In 2006 Musk helped create SolarCity, a solar energy company that was acquired by Tesla in 2016 and became Tesla Energy. In 2013 he proposed a hyperloop high-speed vactrain transportation system. In 2015 he co-founded OpenAI, a nonprofit artificial intelligence research company. The following year Musk co-founded Neuralink—a neurotechnology company developing brain–computer interfaces—and The Boring Company, a tunnel construction company. In 2018 the U.S. Securities and Exchange Commission (SEC) sued Musk, alleging that he had falsely announced that he had secured funding for a private takeover of Tesla. To settle the case Musk\",\n",
       "  'meta': [{'url': 'https://en.wikipedia.org/wiki/Elon_Musk',\n",
       "    'chunk_id': '1eab8dd1ffa92906f7fc839862871ca5'}]},\n",
       " {'source_id': 'default-app-id--69e79714cd4e8c22ed638f65f9601aa69efbf3b614db391be678a0755db50068',\n",
       "  'document': 'in 2012, with a net worth of $2 billion.[325] Personal views and Twitter usage Further information: Views of Elon Musk Since joining Twitter (now known as X) in 2009,[326] Musk has been an active user and has over 163 million followers as of November 2023[update].[327] He posts memes, promotes business interests, and comments on contemporary political and cultural issues.[328] Musk\\'s statements have provoked controversy, such as for mocking preferred gender pronouns[329][330] and comparing Canadian Prime Minister Justin Trudeau to Adolf Hitler.[331] The New York Times describes his contributions to international relations as \"chaotic\", and critics of Musk argue that there is a lack of separation between his opinions and his business interests.[332] As CEO of Twitter, Musk emerged as a source of misinformation and right-wing conspiracy theories, for example by suggesting online details about mass murderer Mauricio Garcia\\'s apparent interest in Nazism could have been planted as part of a psyop.[333] Allegations of him being transphobic appeared as well in response to actions taken by Twitter under his guidance.[334][335] Musk credits science fiction writers, particularly Robert A. Heinlein, for inspiring many of his personal views and business ventures, including SpaceX, Grok, and his libertarian inclinations.[336][337] Finance Musk said that the U.S. government should not provide subsidies to companies, but impose a carbon tax to reduce greenhouse gas emissions.[338][339] The free market, in his view, would achieve the best solution, and producing environmentally unfriendly vehicles should have consequences.[340] Tesla has received billions of dollars in subsidies.[341] As of February 2024, Tesla has made $9 billion from government-initiated systems of zero-emissions credits.[342][343][344][345][346] Tax credits offered in California, at the United States federal level, and by other governments have enabled Tesla\\'s battery electric vehicles to be price-competitive',\n",
       "  'meta': [{'url': 'https://en.wikipedia.org/wiki/Elon_Musk',\n",
       "    'chunk_id': '1eab8dd1ffa92906f7fc839862871ca5'}]}]"
      ]
     },
     "execution_count": 7,
     "metadata": {},
     "output_type": "execute_result"
    }
   ],
   "source": [
    "document"
   ]
  },
  {
   "cell_type": "code",
   "execution_count": 8,
   "metadata": {},
   "outputs": [],
   "source": [
    "answer=\"Elon Musk's net worth is estimated to be US$241 billion as of August 2024.\"\n"
   ]
  },
  {
   "cell_type": "code",
   "execution_count": 9,
   "metadata": {},
   "outputs": [],
   "source": [
    "from rag_citation import CiteItem, Inference"
   ]
  },
  {
   "cell_type": "code",
   "execution_count": 10,
   "metadata": {},
   "outputs": [],
   "source": [
    "inference = Inference(spacy_model=\"sm\", embedding_model=\"md\")\n",
    "cite_item = CiteItem(answer=answer, context=document)"
   ]
  },
  {
   "cell_type": "code",
   "execution_count": 11,
   "metadata": {},
   "outputs": [
    {
     "name": "stderr",
     "output_type": "stream",
     "text": [
      "100%|██████████| 3/3 [00:05<00:00,  1.79s/it]\n"
     ]
    }
   ],
   "source": [
    "output=inference(cite_item)"
   ]
  },
  {
   "cell_type": "code",
   "execution_count": 12,
   "metadata": {},
   "outputs": [
    {
     "data": {
      "text/plain": [
       "[{'answer_sentences': \"Elon Musk's net worth is estimated to be US$241 billion as of August 2024.\",\n",
       "  'cite_document': [{'document': 'Forbes estimates his net worth to be US$241 billion.[3]',\n",
       "    'source_id': 'default-app-id--69e79714cd4e8c22ed638f65f9601aa69efbf3b614db391be678a0755db50068',\n",
       "    'entity': [{'word': 'US$241 billion', 'entity_name': 'MONEY'}],\n",
       "    'meta': [{'url': 'https://en.wikipedia.org/wiki/Elon_Musk',\n",
       "      'chunk_id': '1eab8dd1ffa92906f7fc839862871ca5'}]},\n",
       "   {'document': 'wealthiest individuals in the world; as of August 2024[update]',\n",
       "    'source_id': 'default-app-id--69e79714cd4e8c22ed638f65f9601aa69efbf3b614db391be678a0755db50068',\n",
       "    'entity': [{'word': 'August 2024', 'entity_name': 'DATE'}],\n",
       "    'meta': [{'url': 'https://en.wikipedia.org/wiki/Elon_Musk',\n",
       "      'chunk_id': '1eab8dd1ffa92906f7fc839862871ca5'}]}]}]"
      ]
     },
     "execution_count": 12,
     "metadata": {},
     "output_type": "execute_result"
    }
   ],
   "source": [
    "output.citation"
   ]
  },
  {
   "cell_type": "code",
   "execution_count": 13,
   "metadata": {},
   "outputs": [
    {
     "data": {
      "text/plain": [
       "[]"
      ]
     },
     "execution_count": 13,
     "metadata": {},
     "output_type": "execute_result"
    }
   ],
   "source": [
    "output.missing_word"
   ]
  },
  {
   "cell_type": "code",
   "execution_count": 14,
   "metadata": {},
   "outputs": [
    {
     "data": {
      "text/plain": [
       "False"
      ]
     },
     "execution_count": 14,
     "metadata": {},
     "output_type": "execute_result"
    }
   ],
   "source": [
    "output.hallucination"
   ]
  },
  {
   "cell_type": "code",
   "execution_count": null,
   "metadata": {},
   "outputs": [],
   "source": []
  }
 ],
 "metadata": {
  "kernelspec": {
   "display_name": "py3.11",
   "language": "python",
   "name": "python3"
  },
  "language_info": {
   "codemirror_mode": {
    "name": "ipython",
    "version": 3
   },
   "file_extension": ".py",
   "mimetype": "text/x-python",
   "name": "python",
   "nbconvert_exporter": "python",
   "pygments_lexer": "ipython3",
   "version": "3.11.9"
  }
 },
 "nbformat": 4,
 "nbformat_minor": 2
}
